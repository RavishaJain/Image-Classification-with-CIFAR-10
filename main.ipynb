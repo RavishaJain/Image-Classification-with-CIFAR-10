{
 "cells": [
  {
   "cell_type": "code",
   "execution_count": 20,
   "id": "6a13901b",
   "metadata": {},
   "outputs": [],
   "source": [
    "#Loading the required libraries\n",
    "import tensorflow as tf\n",
    "from tensorflow.keras import datasets,layers,models\n",
    "from tensorflow.keras.models import Sequential\n",
    "from tensorflow.keras.layers import Flatten,Dense\n",
    "from tensorflow.keras.layers import Conv2D,MaxPooling2D\n",
    "import matplotlib.pyplot as plt\n",
    "import numpy as np"
   ]
  },
  {
   "cell_type": "code",
   "execution_count": 2,
   "id": "6776cbe4",
   "metadata": {},
   "outputs": [
    {
     "data": {
      "text/plain": [
       "(50000, 32, 32, 3)"
      ]
     },
     "execution_count": 2,
     "metadata": {},
     "output_type": "execute_result"
    }
   ],
   "source": [
    "#Loading the cifar-10 datasets\n",
    "(X_train,y_train),(X_test,y_test)=datasets.cifar10.load_data()\n",
    "X_train.shape  #50000 samples , Image size 32 by 32 and 3 is for rgb"
   ]
  },
  {
   "cell_type": "code",
   "execution_count": 3,
   "id": "a84c19c5",
   "metadata": {},
   "outputs": [
    {
     "data": {
      "text/plain": [
       "(10000, 32, 32, 3)"
      ]
     },
     "execution_count": 3,
     "metadata": {},
     "output_type": "execute_result"
    }
   ],
   "source": [
    "X_test.shape  #10000 samples , Image size 32 by 32 and 3 is for rgb"
   ]
  },
  {
   "cell_type": "code",
   "execution_count": 4,
   "id": "9452abf4",
   "metadata": {},
   "outputs": [
    {
     "data": {
      "text/plain": [
       "(50000, 1)"
      ]
     },
     "execution_count": 4,
     "metadata": {},
     "output_type": "execute_result"
    }
   ],
   "source": [
    "y_train.shape #50000 samples, 1D array-specifying class"
   ]
  },
  {
   "cell_type": "code",
   "execution_count": 5,
   "id": "48990827",
   "metadata": {},
   "outputs": [],
   "source": [
    "y_train=y_train.reshape(-1,)\n",
    "y_test=y_test.reshape(-1,)"
   ]
  },
  {
   "cell_type": "code",
   "execution_count": 6,
   "id": "3c25d6f7",
   "metadata": {},
   "outputs": [
    {
     "data": {
      "text/plain": [
       "1"
      ]
     },
     "execution_count": 6,
     "metadata": {},
     "output_type": "execute_result"
    }
   ],
   "source": [
    "y_train[5]"
   ]
  },
  {
   "cell_type": "code",
   "execution_count": 7,
   "id": "82c2974e",
   "metadata": {},
   "outputs": [],
   "source": [
    "classes=[\"airplane\",\"automobile\",\"bird\",\"cat\",\"deer\",\"dog\",\"frog\",\"horse\",\"ship\",\"truck\"]"
   ]
  },
  {
   "cell_type": "code",
   "execution_count": 8,
   "id": "b006150a",
   "metadata": {},
   "outputs": [],
   "source": [
    "#defining a function to plot image on that particular index\n",
    "def plot_sample(X,y,index):\n",
    "    plt.figure(figsize=(15,2))\n",
    "    plt.imshow(X[index]) #for plotting\n",
    "    plt.xlabel(classes[y[index]]) #for getting the label"
   ]
  },
  {
   "cell_type": "code",
   "execution_count": 9,
   "id": "a3da4901",
   "metadata": {
    "scrolled": true
   },
   "outputs": [
    {
     "data": {
      "image/png": "[encoded data removed]",
      "text/plain": [
       "<Figure size 1500x200 with 1 Axes>"
      ]
     },
     "metadata": {},
     "output_type": "display_data"
    }
   ],
   "source": [
    "plot_sample(X_train,y_train,5)  "
   ]
  },
  {
   "cell_type": "code",
   "execution_count": 10,
   "id": "66175341",
   "metadata": {},
   "outputs": [
    {
     "data": {
      "image/png": "[encoded data removed]",
      "text/plain": [
       "<Figure size 1500x200 with 1 Axes>"
      ]
     },
     "metadata": {},
     "output_type": "display_data"
    }
   ],
   "source": [
    "plot_sample(X_train,y_train,1234)"
   ]
  },
  {
   "cell_type": "markdown",
   "id": "a0d6be97",
   "metadata": {},
   "source": [
    "#ANN"
   ]
  },
  {
   "cell_type": "code",
   "execution_count": 11,
   "id": "73ea3264",
   "metadata": {},
   "outputs": [],
   "source": [
    "#Normalizing the image to get the image in 0-1 range\n",
    "X_train=X_train/255.0\n",
    "X_test=X_test/255.0"
   ]
  },
  {
   "cell_type": "code",
   "execution_count": 12,
   "id": "a8211298",
   "metadata": {},
   "outputs": [],
   "source": [
    "ann =Sequential([\n",
    "        Flatten(input_shape=(32,32,3)),\n",
    "        Dense(3000, activation='relu'),\n",
    "        Dense(1000, activation='relu'),\n",
    "        Dense(10, activation='softmax')    \n",
    "    ])\n",
    "\n",
    "ann.compile(optimizer='SGD',\n",
    "              loss='sparse_categorical_crossentropy',\n",
    "              metrics=['accuracy'])\n"
   ]
  },
  {
   "cell_type": "code",
   "execution_count": 13,
   "id": "11b65901",
   "metadata": {},
   "outputs": [
    {
     "name": "stdout",
     "output_type": "stream",
     "text": [
      "Model: \"sequential\"\n",
      "_________________________________________________________________\n",
      " Layer (type)                Output Shape              Param #   \n",
      "=================================================================\n",
      " flatten (Flatten)           (None, 3072)              0         \n",
      "                                                                 \n",
      " dense (Dense)               (None, 3000)              9219000   \n",
      "                                                                 \n",
      " dense_1 (Dense)             (None, 1000)              3001000   \n",
      "                                                                 \n",
      " dense_2 (Dense)             (None, 10)                10010     \n",
      "                                                                 \n",
      "=================================================================\n",
      "Total params: 12,230,010\n",
      "Trainable params: 12,230,010\n",
      "Non-trainable params: 0\n",
      "_________________________________________________________________\n"
     ]
    }
   ],
   "source": [
    "ann.summary()"
   ]
  },
  {
   "cell_type": "code",
   "execution_count": 14,
   "id": "c5733d92",
   "metadata": {},
   "outputs": [
    {
     "name": "stdout",
     "output_type": "stream",
     "text": [
      "Epoch 1/10\n",
      "1563/1563 [==============================] - 144s 90ms/step - loss: 1.8128 - accuracy: 0.3565\n",
      "Epoch 2/10\n",
      "1563/1563 [==============================] - 130s 83ms/step - loss: 1.6267 - accuracy: 0.4251\n",
      "Epoch 3/10\n",
      "1563/1563 [==============================] - 130s 83ms/step - loss: 1.5423 - accuracy: 0.4571\n",
      "Epoch 4/10\n",
      "1563/1563 [==============================] - 120s 77ms/step - loss: 1.4837 - accuracy: 0.4787\n",
      "Epoch 5/10\n",
      "1563/1563 [==============================] - 119s 76ms/step - loss: 1.4361 - accuracy: 0.4962\n",
      "Epoch 6/10\n",
      "1563/1563 [==============================] - 119s 76ms/step - loss: 1.3915 - accuracy: 0.5102\n",
      "Epoch 7/10\n",
      "1563/1563 [==============================] - 120s 76ms/step - loss: 1.3527 - accuracy: 0.5254\n",
      "Epoch 8/10\n",
      "1563/1563 [==============================] - 119s 76ms/step - loss: 1.3189 - accuracy: 0.5366\n",
      "Epoch 9/10\n",
      "1563/1563 [==============================] - 120s 77ms/step - loss: 1.2854 - accuracy: 0.5496\n",
      "Epoch 10/10\n",
      "1563/1563 [==============================] - 119s 76ms/step - loss: 1.2551 - accuracy: 0.5614\n"
     ]
    },
    {
     "data": {
      "text/plain": [
       "<keras.callbacks.History at 0x210125ecca0>"
      ]
     },
     "execution_count": 14,
     "metadata": {},
     "output_type": "execute_result"
    }
   ],
   "source": [
    "ann.fit(X_train, y_train, epochs=10)"
   ]
  },
  {
   "cell_type": "code",
   "execution_count": 15,
   "id": "2576d9d5",
   "metadata": {},
   "outputs": [
    {
     "name": "stdout",
     "output_type": "stream",
     "text": [
      "313/313 [==============================] - 6s 17ms/step - loss: 1.3891 - accuracy: 0.5036\n"
     ]
    },
    {
     "data": {
      "text/plain": [
       "[1.3891470432281494, 0.503600001335144]"
      ]
     },
     "execution_count": 15,
     "metadata": {},
     "output_type": "execute_result"
    }
   ],
   "source": [
    "ann.evaluate(X_test,y_test)`"
   ]
  },
  {
   "cell_type": "code",
   "execution_count": 17,
   "id": "c8142e3f",
   "metadata": {},
   "outputs": [
    {
     "name": "stdout",
     "output_type": "stream",
     "text": [
      "313/313 [==============================] - 6s 19ms/step\n",
      "Classification Report: \n",
      "               precision    recall  f1-score   support\n",
      "\n",
      "           0       0.68      0.47      0.55      1000\n",
      "           1       0.74      0.51      0.60      1000\n",
      "           2       0.40      0.43      0.41      1000\n",
      "           3       0.39      0.26      0.31      1000\n",
      "           4       0.49      0.36      0.41      1000\n",
      "           5       0.47      0.31      0.37      1000\n",
      "           6       0.35      0.84      0.50      1000\n",
      "           7       0.65      0.53      0.59      1000\n",
      "           8       0.59      0.72      0.65      1000\n",
      "           9       0.58      0.62      0.60      1000\n",
      "\n",
      "    accuracy                           0.50     10000\n",
      "   macro avg       0.53      0.50      0.50     10000\n",
      "weighted avg       0.53      0.50      0.50     10000\n",
      "\n"
     ]
    }
   ],
   "source": [
    "from sklearn.metrics import confusion_matrix,classification_report\n",
    "y_pred=ann.predict(X_test)\n",
    "y_pred_classes=[np.argmax(element) for element in y_pred] #to match the sequence with y_test\n",
    "\n",
    "print(\"Classification Report: \\n\",classification_report(y_test,y_pred_classes))"
   ]
  },
  {
   "cell_type": "markdown",
   "id": "78846330",
   "metadata": {},
   "source": [
    "#CNN"
   ]
  },
  {
   "cell_type": "code",
   "execution_count": 22,
   "id": "e617789d",
   "metadata": {},
   "outputs": [
    {
     "name": "stdout",
     "output_type": "stream",
     "text": [
      "Model: \"sequential_2\"\n",
      "_________________________________________________________________\n",
      " Layer (type)                Output Shape              Param #   \n",
      "=================================================================\n",
      " conv2d_1 (Conv2D)           (None, 30, 30, 32)        896       \n",
      "                                                                 \n",
      " max_pooling2d_1 (MaxPooling  (None, 15, 15, 32)       0         \n",
      " 2D)                                                             \n",
      "                                                                 \n",
      " conv2d_2 (Conv2D)           (None, 13, 13, 64)        18496     \n",
      "                                                                 \n",
      " max_pooling2d_2 (MaxPooling  (None, 6, 6, 64)         0         \n",
      " 2D)                                                             \n",
      "                                                                 \n",
      " flatten_2 (Flatten)         (None, 2304)              0         \n",
      "                                                                 \n",
      " dense_5 (Dense)             (None, 64)                147520    \n",
      "                                                                 \n",
      " dense_6 (Dense)             (None, 10)                650       \n",
      "                                                                 \n",
      "=================================================================\n",
      "Total params: 167,562\n",
      "Trainable params: 167,562\n",
      "Non-trainable params: 0\n",
      "_________________________________________________________________\n"
     ]
    }
   ],
   "source": [
    "cnn =Sequential([\n",
    "        #cnn network\n",
    "        Conv2D(filters=32,kernel_size=(3,3),activation='relu',input_shape=(32,32,3)),\n",
    "        MaxPooling2D((2,2)),\n",
    "        Conv2D(filters=64,kernel_size=(3,3),activation='relu',input_shape=(32,32,3)),\n",
    "        MaxPooling2D((2,2)),\n",
    "        #dense network\n",
    "        Flatten(),\n",
    "        Dense(64, activation='relu'),\n",
    "        Dense(10, activation='softmax')    \n",
    "    ])\n",
    "cnn.summary()"
   ]
  },
  {
   "cell_type": "code",
   "execution_count": 26,
   "id": "8c735084",
   "metadata": {},
   "outputs": [],
   "source": [
    "cnn.compile(optimizer='adam',loss='sparse_categorical_crossentropy',metrics=['accuracy'])"
   ]
  },
  {
   "cell_type": "code",
   "execution_count": 27,
   "id": "41ecf957",
   "metadata": {},
   "outputs": [
    {
     "name": "stdout",
     "output_type": "stream",
     "text": [
      "Epoch 1/10\n",
      "1563/1563 [==============================] - 51s 31ms/step - loss: 1.4820 - accuracy: 0.4669\n",
      "Epoch 2/10\n",
      "1563/1563 [==============================] - 50s 32ms/step - loss: 1.1384 - accuracy: 0.5982\n",
      "Epoch 3/10\n",
      "1563/1563 [==============================] - 49s 32ms/step - loss: 1.0144 - accuracy: 0.6456\n",
      "Epoch 4/10\n",
      "1563/1563 [==============================] - 49s 31ms/step - loss: 0.9410 - accuracy: 0.6719\n",
      "Epoch 5/10\n",
      "1563/1563 [==============================] - 49s 31ms/step - loss: 0.8809 - accuracy: 0.6948\n",
      "Epoch 6/10\n",
      "1563/1563 [==============================] - 50s 32ms/step - loss: 0.8273 - accuracy: 0.7139\n",
      "Epoch 7/10\n",
      "1563/1563 [==============================] - 59s 38ms/step - loss: 0.7865 - accuracy: 0.7273\n",
      "Epoch 8/10\n",
      "1563/1563 [==============================] - 70s 45ms/step - loss: 0.7442 - accuracy: 0.7424\n",
      "Epoch 9/10\n",
      "1563/1563 [==============================] - 59s 38ms/step - loss: 0.7082 - accuracy: 0.7545\n",
      "Epoch 10/10\n",
      "1563/1563 [==============================] - 50s 32ms/step - loss: 0.6700 - accuracy: 0.7689\n"
     ]
    },
    {
     "data": {
      "text/plain": [
       "<keras.callbacks.History at 0x2101bc474c0>"
      ]
     },
     "execution_count": 27,
     "metadata": {},
     "output_type": "execute_result"
    }
   ],
   "source": [
    "cnn.fit(X_train,y_train,epochs=10)"
   ]
  },
  {
   "cell_type": "code",
   "execution_count": 28,
   "id": "d2742feb",
   "metadata": {},
   "outputs": [
    {
     "name": "stdout",
     "output_type": "stream",
     "text": [
      "313/313 [==============================] - 3s 10ms/step - loss: 0.9075 - accuracy: 0.6961\n"
     ]
    },
    {
     "data": {
      "text/plain": [
       "[0.9075244069099426, 0.6960999965667725]"
      ]
     },
     "execution_count": 28,
     "metadata": {},
     "output_type": "execute_result"
    }
   ],
   "source": [
    "cnn.evaluate(X_test,y_test)"
   ]
  },
  {
   "cell_type": "code",
   "execution_count": 30,
   "id": "98d6308e",
   "metadata": {},
   "outputs": [
    {
     "data": {
      "image/png": "[encoded data removed]",
      "text/plain": [
       "<Figure size 1500x200 with 1 Axes>"
      ]
     },
     "metadata": {},
     "output_type": "display_data"
    }
   ],
   "source": [
    "plot_sample(X_test,y_test,5)"
   ]
  },
  {
   "cell_type": "code",
   "execution_count": 31,
   "id": "4cf6782e",
   "metadata": {},
   "outputs": [
    {
     "name": "stdout",
     "output_type": "stream",
     "text": [
      "313/313 [==============================] - 4s 14ms/step\n"
     ]
    },
    {
     "data": {
      "text/plain": [
       "array([[1.5902521e-02, 3.4452063e-05, 2.2355863e-03, 8.8241625e-01,\n",
       "        1.3938642e-04, 6.3050412e-02, 2.2623539e-03, 1.0636680e-05,\n",
       "        3.3880685e-02, 6.7810026e-05],\n",
       "       [9.7839199e-02, 1.8860179e-01, 3.3750033e-04, 6.3801912e-05,\n",
       "        1.9800867e-05, 1.9558856e-05, 1.5734405e-06, 8.0291202e-06,\n",
       "        7.0475072e-01, 8.3581302e-03],\n",
       "       [2.6138052e-01, 6.0945641e-02, 3.1014881e-03, 8.2617709e-03,\n",
       "        4.6720225e-03, 2.0440163e-03, 8.7979092e-04, 1.2406432e-02,\n",
       "        4.6359783e-01, 1.8271053e-01]], dtype=float32)"
      ]
     },
     "execution_count": 31,
     "metadata": {},
     "output_type": "execute_result"
    }
   ],
   "source": [
    "y_pred=cnn.predict(X_test)\n",
    "y_pred[:3]"
   ]
  },
  {
   "cell_type": "code",
   "execution_count": 38,
   "id": "870cdf2d",
   "metadata": {},
   "outputs": [
    {
     "data": {
      "text/plain": [
       "[3, 8, 8, 0, 6, 6, 1, 2, 3, 1]"
      ]
     },
     "execution_count": 38,
     "metadata": {},
     "output_type": "execute_result"
    }
   ],
   "source": [
    "y_classes=[np.argmax(element) for element in y_pred]\n",
    "y_classes[:10]"
   ]
  },
  {
   "cell_type": "code",
   "execution_count": 39,
   "id": "a5cb7a14",
   "metadata": {},
   "outputs": [
    {
     "data": {
      "text/plain": [
       "array([3, 8, 8, 0, 6, 6, 1, 6, 3, 1], dtype=uint8)"
      ]
     },
     "execution_count": 39,
     "metadata": {},
     "output_type": "execute_result"
    }
   ],
   "source": [
    "y_test[:10]"
   ]
  },
  {
   "cell_type": "code",
   "execution_count": 42,
   "id": "dc63faf8",
   "metadata": {},
   "outputs": [
    {
     "data": {
      "image/png": "[encoded data removed]",
      "text/plain": [
       "<Figure size 1500x200 with 1 Axes>"
      ]
     },
     "metadata": {},
     "output_type": "display_data"
    }
   ],
   "source": [
    "plot_sample(X_test,y_classes,7)  #as we can see from above it s classifying it wrong as the accuracy of model is less"
   ]
  },
  {
   "cell_type": "code",
   "execution_count": 43,
   "id": "6f9c9a95",
   "metadata": {},
   "outputs": [
    {
     "data": {
      "image/png": "[encoded data removed]",
      "text/plain": [
       "<Figure size 1500x200 with 1 Axes>"
      ]
     },
     "metadata": {},
     "output_type": "display_data"
    }
   ],
   "source": [
    "plot_sample(X_test,y_classes,3) # here is classifies it alright"
   ]
  },
  {
   "cell_type": "code",
   "execution_count": 44,
   "id": "143af4ff",
   "metadata": {},
   "outputs": [
    {
     "name": "stdout",
     "output_type": "stream",
     "text": [
      "Classification Report: \n",
      "               precision    recall  f1-score   support\n",
      "\n",
      "           0       0.72      0.76      0.74      1000\n",
      "           1       0.81      0.81      0.81      1000\n",
      "           2       0.63      0.53      0.58      1000\n",
      "           3       0.47      0.57      0.52      1000\n",
      "           4       0.67      0.62      0.65      1000\n",
      "           5       0.62      0.54      0.58      1000\n",
      "           6       0.74      0.80      0.77      1000\n",
      "           7       0.80      0.72      0.76      1000\n",
      "           8       0.75      0.84      0.79      1000\n",
      "           9       0.77      0.76      0.77      1000\n",
      "\n",
      "    accuracy                           0.70     10000\n",
      "   macro avg       0.70      0.70      0.70     10000\n",
      "weighted avg       0.70      0.70      0.70     10000\n",
      "\n"
     ]
    }
   ],
   "source": [
    "print(\"Classification Report: \\n\",classification_report(y_test,y_classes))"
   ]
  }
 ],
 "metadata": {
  "kernelspec": {
   "display_name": "Python 3 (ipykernel)",
   "language": "python",
   "name": "python3"
  },
  "language_info": {
   "codemirror_mode": {
    "name": "ipython",
    "version": 3
   },
   "file_extension": ".py",
   "mimetype": "text/x-python",
   "name": "python",
   "nbconvert_exporter": "python",
   "pygments_lexer": "ipython3",
   "version": "3.9.13"
  }
 },
 "nbformat": 4,
 "nbformat_minor": 5
}
